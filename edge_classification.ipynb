{
 "cells": [
  {
   "cell_type": "code",
   "execution_count": 1,
   "id": "46e4ba4b",
   "metadata": {},
   "outputs": [
    {
     "data": {
      "text/plain": [
       "Data(x=[316, 6], edge_index=[2, 6634], edge_attr=[6634, 4], y=[6634])"
      ]
     },
     "execution_count": 1,
     "metadata": {},
     "output_type": "execute_result"
    }
   ],
   "source": [
    "import torch\n",
    "\n",
    "torch.load(\"/home/hrc/gsoc/batch_1_0/data21000_s14.pt\")"
   ]
  },
  {
   "cell_type": "code",
   "execution_count": 2,
   "id": "5bb6c08c",
   "metadata": {},
   "outputs": [],
   "source": [
    "# from torch_geometric.data import Data\n",
    "# from torch_geometric.loader import DataLoader\n",
    "\n",
    "# data_list = [Data(...), ..., Data(...)]\n",
    "# loader = DataLoader(data_list, batch_size=32)"
   ]
  },
  {
   "cell_type": "code",
   "execution_count": 3,
   "id": "e375f8e0",
   "metadata": {},
   "outputs": [],
   "source": [
    "from pathlib import Path\n",
    "\n",
    "from torch.utils.data import Dataset  # not the one from PyG!\n",
    "from torch_geometric.loader import DataLoader\n",
    "import torch.nn.functional as F\n",
    "from torch_geometric.nn import GCNConv\n",
    "\n",
    "\n",
    "import torch\n",
    "\n",
    "\n",
    "class MyDataset(Dataset):\n",
    "    def __init__(self, path: Path):\n",
    "        super().__init__()\n",
    "        self.graphs = list(path.glob(\"*.pt\"))\n",
    "    \n",
    "    def __getitem__(self, idx):\n",
    "        return torch.load(self.graphs[idx])\n",
    "    \n",
    "    def __len__(self) -> int:\n",
    "        return len(self.graphs)\n",
    "\n",
    "\n",
    "dataset = MyDataset(Path(\"/home/hrc/gsoc/batch_1_0/\"))\n",
    "loader = DataLoader(dataset, batch_size=32)"
   ]
  },
  {
   "cell_type": "code",
   "execution_count": 13,
   "id": "d934ffa1",
   "metadata": {},
   "outputs": [
    {
     "data": {
      "text/plain": [
       "Data(x=[316, 6], edge_index=[2, 6634], edge_attr=[6634, 4], y=[6634])"
      ]
     },
     "execution_count": 13,
     "metadata": {},
     "output_type": "execute_result"
    }
   ],
   "source": [
    "data = torch.load(\"/home/hrc/gsoc/batch_1_0/data21000_s14.pt\")\n",
    "data"
   ]
  },
  {
   "cell_type": "code",
   "execution_count": 5,
   "id": "b407c7bf",
   "metadata": {},
   "outputs": [
    {
     "name": "stdout",
     "output_type": "stream",
     "text": [
      "x = torch.Size([316, 6])\n",
      "tensor([[  0.0684,  -0.9035,  -1.4980,  -3.7805, -13.9569,  -4.3680],\n",
      "        [  0.0686,  -0.9035,  -1.5020,  -3.7805, -13.9203,  -4.3556],\n",
      "        [  0.1340,  -0.8955,  -1.4980,  -3.1095,  -7.0661,  -2.4080],\n",
      "        ...,\n",
      "        [  0.1050,  -0.9137,   1.5020,   3.3548,  -9.1744,  -2.5514],\n",
      "        [  0.1128,  -0.8964,   1.4980,   3.2808,  -8.3998,  -2.8340],\n",
      "        [  0.1047,  -0.9137,   1.4980,   3.3548,  -9.1993,  -2.5569]])\n"
     ]
    }
   ],
   "source": [
    "print(f'x = {data.x.shape}')\n",
    "print(data.x)"
   ]
  },
  {
   "cell_type": "code",
   "execution_count": 6,
   "id": "28b1ae2c",
   "metadata": {},
   "outputs": [
    {
     "name": "stdout",
     "output_type": "stream",
     "text": [
      "edge_index = torch.Size([2, 6634])\n",
      "tensor([[  0,   0,   1,  ..., 313, 315, 314],\n",
      "        [  3,   4,   3,  ..., 311, 311, 312]])\n"
     ]
    }
   ],
   "source": [
    "print(f'edge_index = {data.edge_index.shape}')\n",
    "print(data.edge_index)"
   ]
  },
  {
   "cell_type": "code",
   "execution_count": 7,
   "id": "44b0feaf",
   "metadata": {},
   "outputs": [
    {
     "name": "stdout",
     "output_type": "stream",
     "text": [
      "edge_attributes = torch.Size([6634, 4])\n",
      "tensor([[-0.0092, -0.0007,  0.2000,  0.0025],\n",
      "        [-0.0090, -0.0007,  0.1960,  0.0022],\n",
      "        [-0.0094, -0.0007,  0.2040,  0.0024],\n",
      "        ...,\n",
      "        [-0.0140,  0.0012, -0.2040,  0.0045],\n",
      "        [-0.0138,  0.0012, -0.2000,  0.0046],\n",
      "        [-0.0149, -0.0011, -0.1960,  0.0038]])\n"
     ]
    }
   ],
   "source": [
    "print(f'edge_attributes = {data.edge_attr.shape}')\n",
    "print(data.edge_attr)"
   ]
  },
  {
   "cell_type": "code",
   "execution_count": 14,
   "id": "a45cd356",
   "metadata": {},
   "outputs": [
    {
     "name": "stdout",
     "output_type": "stream",
     "text": [
      "y = torch.Size([6634])\n",
      "tensor([1., 1., 1.,  ..., 1., 1., 1.])\n"
     ]
    }
   ],
   "source": [
    "print(f'y = {data.y.shape}')\n",
    "print(data.y)"
   ]
  },
  {
   "cell_type": "code",
   "execution_count": 15,
   "id": "4e25f279",
   "metadata": {},
   "outputs": [
    {
     "name": "stdout",
     "output_type": "stream",
     "text": [
      "A = (316, 316)\n",
      "[[0 0 0 ... 0 0 0]\n",
      " [0 0 0 ... 0 0 0]\n",
      " [0 0 0 ... 0 0 0]\n",
      " ...\n",
      " [0 0 0 ... 0 0 0]\n",
      " [0 0 0 ... 0 0 0]\n",
      " [0 0 0 ... 0 0 0]]\n"
     ]
    }
   ],
   "source": [
    "from torch_geometric.utils import to_dense_adj\n",
    "\n",
    "A = to_dense_adj(data.edge_index)[0].numpy().astype(int)\n",
    "print(f'A = {A.shape}')\n",
    "print(A)"
   ]
  },
  {
   "cell_type": "code",
   "execution_count": 16,
   "id": "b89b918c",
   "metadata": {},
   "outputs": [
    {
     "name": "stdout",
     "output_type": "stream",
     "text": [
      "y = torch.Size([6634])\n",
      "tensor([1., 1., 1.,  ..., 1., 1., 1.])\n"
     ]
    }
   ],
   "source": [
    "print(f'y = {data.y.shape}')\n",
    "print(data.y)"
   ]
  },
  {
   "cell_type": "code",
   "execution_count": 17,
   "id": "bb0ead6e",
   "metadata": {},
   "outputs": [
    {
     "name": "stdout",
     "output_type": "stream",
     "text": [
      "Edges are directed: True\n",
      "Graph has isolated nodes: False\n",
      "Graph has loops: False\n"
     ]
    }
   ],
   "source": [
    "print(f'Edges are directed: {data.is_directed()}')\n",
    "print(f'Graph has isolated nodes: {data.has_isolated_nodes()}')\n",
    "print(f'Graph has loops: {data.has_self_loops()}')\n"
   ]
  },
  {
   "cell_type": "code",
   "execution_count": 18,
   "id": "b24c1ca4",
   "metadata": {},
   "outputs": [],
   "source": [
    "# Finding edge embeddings\n",
    "\n",
    "# x = ...  # Node feature matrix: [num_nodes, num_features]\n",
    "# edge_index = ... # Edge indices: [2, num_edges]\n",
    "\n",
    "src, dst = data.edge_index\n",
    "score = (data.x[src] * data.x[dst]).sum(dim=-1)\n"
   ]
  },
  {
   "cell_type": "code",
   "execution_count": 19,
   "id": "685ac50d",
   "metadata": {},
   "outputs": [
    {
     "data": {
      "text/plain": [
       "tensor([264.1794, 263.3403, 263.5314,  ..., 118.7073, 118.9811, 104.0850])"
      ]
     },
     "execution_count": 19,
     "metadata": {},
     "output_type": "execute_result"
    }
   ],
   "source": [
    "score"
   ]
  },
  {
   "cell_type": "code",
   "execution_count": 18,
   "id": "de4a3f79",
   "metadata": {},
   "outputs": [
    {
     "name": "stdout",
     "output_type": "stream",
     "text": [
      "torch.Size([6634, 64])\n",
      "Accuracy: 0.9260\n"
     ]
    }
   ],
   "source": [
    "# Test the model\n",
    "model.eval()\n",
    "with torch.no_grad():\n",
    "    output = model(graph_data.x, graph_data.edge_index)\n",
    "    pred = output.argmax(dim=1)\n",
    "    correct = pred.eq(graph_data.y).sum().item()\n",
    "    accuracy = correct / graph_data.y.size(0)\n",
    "    print('Accuracy: {:.4f}'.format(accuracy))"
   ]
  },
  {
   "cell_type": "code",
   "execution_count": null,
   "id": "644c5275",
   "metadata": {},
   "outputs": [],
   "source": []
  }
 ],
 "metadata": {
  "kernelspec": {
   "display_name": "Python 3 (ipykernel)",
   "language": "python",
   "name": "python3"
  },
  "language_info": {
   "codemirror_mode": {
    "name": "ipython",
    "version": 3
   },
   "file_extension": ".py",
   "mimetype": "text/x-python",
   "name": "python",
   "nbconvert_exporter": "python",
   "pygments_lexer": "ipython3",
   "version": "3.10.0"
  }
 },
 "nbformat": 4,
 "nbformat_minor": 5
}
